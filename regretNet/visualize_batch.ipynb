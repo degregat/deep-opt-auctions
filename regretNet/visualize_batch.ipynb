{
 "cells": [
  {
   "cell_type": "code",
   "execution_count": null,
   "metadata": {},
   "outputs": [],
   "source": [
    "from pathlib import Path\n",
    "import pandas as pd\n",
    "import seaborn as sns\n",
    "import matplotlib.pyplot as plt\n",
    "import matplotlib.patches as mpatches"
   ]
  },
  {
   "cell_type": "code",
   "execution_count": null,
   "metadata": {},
   "outputs": [],
   "source": [
    "train_data = pd.read_csv('train_data.csv')\n",
    "test_data = pd.read_csv('test_data.csv')\n",
    "utility_data = pd.read_csv('utility_data.csv')\n",
    "\n",
    "# Insert Revenue and Regret from test_data into train_data\n",
    "train_data.update(test_data)\n",
    "\n",
    "# Separate data without DP to make face plots more readable\n",
    "dp_data = train_data.query('Noise > 0').query('Clip > 0')\n",
    "no_dp_data = train_data.query('Noise == 0').query('Clip == 0')"
   ]
  },
  {
   "cell_type": "code",
   "execution_count": null,
   "metadata": {},
   "outputs": [],
   "source": [
    "if not no_dp_data.empty:\n",
    "    sns.set(rc={'figure.figsize':(14,5)})\n",
    "    v0, ax = plt.subplots(1,2)\n",
    "    v0 = sns.lineplot(x='Iter', y='Regret', data=no_dp_data, ax=ax[0])\n",
    "    v0 = sns.lineplot(x='Iter', y='Revenue', data=no_dp_data, color='darkorange', ax=ax[1])\n",
    "    regret = mpatches.Patch(color='blue', label='Regret')\n",
    "    revenue = mpatches.Patch(color='darkorange', label='Revenue')\n",
    "    v0.legend(handles=[regret, revenue])"
   ]
  },
  {
   "cell_type": "code",
   "execution_count": null,
   "metadata": {},
   "outputs": [],
   "source": [
    "v1 = sns.FacetGrid(dp_data, col='Noise', row='Clip')\n",
    "v1 = v1.map(plt.plot, 'Iter', 'Regret')"
   ]
  },
  {
   "cell_type": "code",
   "execution_count": null,
   "metadata": {},
   "outputs": [],
   "source": [
    "v2 = sns.FacetGrid(dp_data, col='Noise', row='Clip')\n",
    "v2 = v2.map(plt.plot, 'Iter', 'Revenue', color='darkorange')"
   ]
  },
  {
   "cell_type": "code",
   "execution_count": null,
   "metadata": {},
   "outputs": [],
   "source": [
    "v3 = sns.FacetGrid(dp_data, col='Noise', row='Clip')\n",
    "v3 = v3.map(plt.plot, 'Iter', 'Epsilon', color='teal')"
   ]
  },
  {
   "cell_type": "code",
   "execution_count": null,
   "metadata": {},
   "outputs": [],
   "source": [
    "v4 = sns.FacetGrid(utility_data, col='Noise', row='Agent')\n",
    "v4 = v4.map(plt.plot, 'Iter', 'Utility', color='teal')"
   ]
  }
 ],
 "metadata": {
  "kernelspec": {
   "display_name": "Python 3",
   "language": "python",
   "name": "python3"
  },
  "language_info": {
   "codemirror_mode": {
    "name": "ipython",
    "version": 3
   },
   "file_extension": ".py",
   "mimetype": "text/x-python",
   "name": "python",
   "nbconvert_exporter": "python",
   "pygments_lexer": "ipython3",
   "version": "3.7.7"
  }
 },
 "nbformat": 4,
 "nbformat_minor": 2
}
