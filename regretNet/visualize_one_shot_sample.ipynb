{
 "cells": [
  {
   "cell_type": "code",
   "execution_count": null,
   "metadata": {},
   "outputs": [],
   "source": [
    "from pathlib import Path\n",
    "import pandas as pd\n",
    "import seaborn as sns\n",
    "import matplotlib.pyplot as plt"
   ]
  },
  {
   "cell_type": "code",
   "execution_count": null,
   "metadata": {},
   "outputs": [],
   "source": [
    "tests = pd.read_csv('tests.csv')\n",
    "utility = pd.read_csv('utility.csv')\n",
    "train = pd.read_csv('train.csv')\n",
    "welfare = pd.read_csv('welfare.csv')\n",
    "\n",
    "train.update(tests)\n",
    "\n",
    "# Insert Revenue and Regret from test_data into train_data\n",
    "#train_data.update(test_data)\n",
    "\n",
    "# Separate data without DP to make face plots more readable\n",
    "#dp_data = train_data.query('Noise > 0').query('Clip > 0')\n",
    "#no_dp_data = train_data.query('Noise == 0').query('Clip == 0')"
   ]
  },
  {
   "cell_type": "code",
   "execution_count": null,
   "metadata": {},
   "outputs": [],
   "source": [
    "midx_util = pd.MultiIndex.from_frame(utility.query(\"Agent == 0\")[['Report','Utility']])"
   ]
  },
  {
   "cell_type": "code",
   "execution_count": null,
   "metadata": {},
   "outputs": [],
   "source": [
    "# Find max over all misreports\n",
    "util = utility.query(\"Report > 0\").groupby(['Iter','Agent','Noise','Clip','Exp'])['Utility'].max()\n",
    "\n",
    "# Transform to df with index/columns\n",
    "util_data = pd.DataFrame(pd.DataFrame(util).to_records()) "
   ]
  },
  {
   "cell_type": "code",
   "execution_count": null,
   "metadata": {},
   "outputs": [],
   "source": [
    "# Find min revenue over all misreports\n",
    "tr = train.groupby(['Iter','Noise','Clip','Exp'])['Revenue'].min()\n",
    "\n",
    "# Transform to df with index/columns\n",
    "train_data = pd.DataFrame(pd.DataFrame(tr).to_records())"
   ]
  },
  {
   "cell_type": "code",
   "execution_count": null,
   "metadata": {},
   "outputs": [],
   "source": [
    "# Find max regret over all misreports\n",
    "reg = utility.query(\"Report > 0\").groupby(['Iter','Agent','Noise','Clip','Exp'])['Regret'].max()\n",
    "\n",
    "# Transform to df with index/columns\n",
    "reg_data = pd.DataFrame(pd.DataFrame(reg).to_records()) "
   ]
  },
  {
   "cell_type": "code",
   "execution_count": null,
   "metadata": {},
   "outputs": [],
   "source": [
    "# Find max regret over all misreports\n",
    "reg_s = train.groupby(['Iter','Noise','Clip','Exp'])['Regret'].max()\n",
    "\n",
    "# Transform to df with index/columns\n",
    "reg_sum_data = pd.DataFrame(pd.DataFrame(reg_s).to_records())"
   ]
  },
  {
   "cell_type": "code",
   "execution_count": null,
   "metadata": {},
   "outputs": [],
   "source": [
    "# Find min welfare over all misreports\n",
    "wel = welfare.groupby(['Iter','Noise','Clip','Exp'])['Welfare'].min()\n",
    "\n",
    "# Transform to df with index/columns\n",
    "wel_data = pd.DataFrame(pd.DataFrame(wel).to_records()) "
   ]
  },
  {
   "cell_type": "markdown",
   "metadata": {},
   "source": [
    "# Welfare"
   ]
  },
  {
   "cell_type": "code",
   "execution_count": null,
   "metadata": {},
   "outputs": [],
   "source": [
    "w = sns.FacetGrid(wel_data, col='Noise', row='Clip', hue='Exp')\n",
    "w = w.map(plt.plot, 'Iter', 'Welfare')"
   ]
  },
  {
   "cell_type": "markdown",
   "metadata": {},
   "source": [
    "# Revenue"
   ]
  },
  {
   "cell_type": "code",
   "execution_count": null,
   "metadata": {},
   "outputs": [],
   "source": [
    "rev = sns.FacetGrid(train_data, col='Noise', row='Clip', hue='Exp')\n",
    "rev = rev.map(plt.plot, 'Iter', 'Revenue')"
   ]
  },
  {
   "cell_type": "markdown",
   "metadata": {},
   "source": [
    "# Sum Regret"
   ]
  },
  {
   "cell_type": "markdown",
   "metadata": {},
   "source": [
    "TODO: Find out wether more agents make regret development more smooth\n",
    "\n",
    "TODO: Is sum regret important?"
   ]
  },
  {
   "cell_type": "markdown",
   "metadata": {},
   "source": [
    "## TODO: regret calc correct? no noise case should be worse"
   ]
  },
  {
   "cell_type": "code",
   "execution_count": null,
   "metadata": {},
   "outputs": [],
   "source": [
    "reg_sum = sns.FacetGrid(reg_sum_data, col='Noise', hue='Exp')\n",
    "reg_sum = reg_sum.map(plt.plot, 'Iter', 'Regret')"
   ]
  },
  {
   "cell_type": "markdown",
   "metadata": {},
   "source": [
    "# Regret"
   ]
  },
  {
   "cell_type": "markdown",
   "metadata": {},
   "source": [
    "Note: More hidden layers, but small item size -> faster convergence"
   ]
  },
  {
   "cell_type": "code",
   "execution_count": null,
   "metadata": {},
   "outputs": [],
   "source": [
    "reg = sns.FacetGrid(reg_data, col='Noise', row='Agent', hue='Exp')\n",
    "reg = reg.map(plt.plot, 'Iter', 'Regret')"
   ]
  },
  {
   "cell_type": "markdown",
   "metadata": {},
   "source": [
    "# Utility Agent 0"
   ]
  },
  {
   "cell_type": "code",
   "execution_count": null,
   "metadata": {},
   "outputs": [],
   "source": [
    "ag0 = sns.FacetGrid(util_data.query('Agent == 0'), col='Noise', row='Clip', hue='Exp')\n",
    "ag0 = ag0.map(plt.plot, 'Iter', 'Utility')"
   ]
  },
  {
   "cell_type": "markdown",
   "metadata": {},
   "source": [
    "# Utility All Agents"
   ]
  },
  {
   "cell_type": "markdown",
   "metadata": {},
   "source": [
    "TODO: Group Utils of Agent0 with util clusters of other agents"
   ]
  },
  {
   "cell_type": "code",
   "execution_count": null,
   "metadata": {},
   "outputs": [],
   "source": [
    "a = sns.FacetGrid(util_data, col='Noise', row='Agent', hue='Exp')\n",
    "a = a.map(plt.plot, 'Iter', 'Utility')"
   ]
  }
 ],
 "metadata": {
  "@webio": {
   "lastCommId": null,
   "lastKernelId": null
  },
  "kernelspec": {
   "display_name": "Python 3",
   "language": "python",
   "name": "python3"
  },
  "language_info": {
   "codemirror_mode": {
    "name": "ipython",
    "version": 3
   },
   "file_extension": ".py",
   "mimetype": "text/x-python",
   "name": "python",
   "nbconvert_exporter": "python",
   "pygments_lexer": "ipython3",
   "version": "3.7.7"
  }
 },
 "nbformat": 4,
 "nbformat_minor": 2
}
